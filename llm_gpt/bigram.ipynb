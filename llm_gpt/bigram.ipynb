{
 "cells": [
  {
   "cell_type": "code",
   "execution_count": 9,
   "metadata": {},
   "outputs": [
    {
     "name": "stdout",
     "output_type": "stream",
     "text": [
      "cuda\n"
     ]
    }
   ],
   "source": [
    "import torch\n",
    "import torch.nn as nn\n",
    "import torch.nn.functional as F\n",
    "\n",
    "device = 'cuda' if torch.cuda.is_available() else 'cpu'\n",
    "print(device)\n",
    "\n",
    "block_size = 8\n",
    "batch_size = 4\n",
    "learning_rate = 3e-4\n",
    "max_iters = 1000\n",
    "eval_iters = 250"
   ]
  },
  {
   "cell_type": "code",
   "execution_count": 10,
   "metadata": {},
   "outputs": [
    {
     "name": "stdout",
     "output_type": "stream",
     "text": [
      "['\\n', ' ', '!', '\"', \"'\", '(', ')', ',', '-', '.', '0', '1', '2', '3', '4', '5', '6', '7', '8', '9', ':', ';', '?', 'A', 'B', 'C', 'D', 'E', 'F', 'G', 'H', 'I', 'J', 'K', 'L', 'M', 'N', 'O', 'P', 'Q', 'R', 'S', 'T', 'U', 'V', 'W', 'X', 'Y', 'Z', '[', ']', '_', 'a', 'b', 'c', 'd', 'e', 'f', 'g', 'h', 'i', 'j', 'k', 'l', 'm', 'n', 'o', 'p', 'q', 'r', 's', 't', 'u', 'v', 'w', 'x', 'y', 'z', '£', 'â', 'ä', 'æ', 'è', 'é', 'ï', 'ô', 'ö', 'ü']\n",
      "88\n"
     ]
    }
   ],
   "source": [
    "with open('bismarck_and_the_foundation_of_the_german_empire.txt', 'r', encoding='utf-8') as f:\n",
    "    text = f.read()\n",
    "chars = sorted(set(text))\n",
    "print(chars)\n",
    "vocab_size = len(chars)\n",
    "print(vocab_size)"
   ]
  },
  {
   "cell_type": "code",
   "execution_count": 11,
   "metadata": {},
   "outputs": [
    {
     "name": "stdout",
     "output_type": "stream",
     "text": [
      "tensor([ 0, 24, 31, 41, 35, 23, 40, 25, 33,  9,  0,  0, 25, 30, 23, 38, 42, 27,\n",
      "        40,  1, 31,  9,  0,  0, 24, 31, 40, 42, 30,  1, 23, 36, 26,  1, 38, 23,\n",
      "        40, 27, 36, 42, 23, 29, 27,  9,  0,  0,  0, 37, 71, 71, 66,  1, 27, 55,\n",
      "        72, 52, 69, 55,  1, 34, 56, 66, 67, 66, 63, 55,  1, 44, 66, 65,  1, 24,\n",
      "        60, 70, 64, 52, 69, 54, 62,  1, 74, 52, 70,  1, 53, 66, 69, 65,  1, 52,\n",
      "        71,  1, 71, 59, 56,  1, 64, 52, 65, 66])\n"
     ]
    }
   ],
   "source": [
    "string_to_int = {ch:i for i,ch in enumerate(chars)}\n",
    "int_to_string = {i:ch for i,ch in enumerate(chars)}\n",
    "\n",
    "encode = lambda s: [string_to_int[c] for c in s]\n",
    "decode = lambda l: ''.join([int_to_string[i] for i in l])\n",
    "\n",
    "data = torch.tensor(encode(text), dtype=torch.long)\n",
    "print(data[:100])"
   ]
  },
  {
   "cell_type": "code",
   "execution_count": 12,
   "metadata": {},
   "outputs": [
    {
     "name": "stdout",
     "output_type": "stream",
     "text": [
      "inputs:\n",
      "tensor([[58, 69, 60, 71, 76,  0, 66, 57],\n",
      "        [ 1, 70, 56, 56, 65,  7,  1, 59],\n",
      "        [ 1, 59, 60, 70,  1, 73, 60, 58],\n",
      "        [59, 56,  1, 56, 65, 58, 52, 58]], device='cuda:0')\n",
      "targets:\n",
      "tensor([[69, 60, 71, 76,  0, 66, 57,  1],\n",
      "        [70, 56, 56, 65,  7,  1, 59, 56],\n",
      "        [59, 60, 70,  1, 73, 60, 58, 66],\n",
      "        [56,  1, 56, 65, 58, 52, 58, 56]], device='cuda:0')\n"
     ]
    }
   ],
   "source": [
    "n = int(0.8*len(data))\n",
    "train_data = data[:n]\n",
    "val_data = data[n:]\n",
    "\n",
    "def get_batch(split):\n",
    "    data = train_data if split == 'train' else val_data\n",
    "    ix = torch.randint(len(data) - block_size, (batch_size,))\n",
    "    # print(ix)\n",
    "    x = torch.stack([data[i:i+block_size] for i in ix])\n",
    "    y = torch.stack([data[i+1:i+block_size + 1] for i in ix])\n",
    "    x, y = x.to(device), y.to(device)\n",
    "    return x, y\n",
    "\n",
    "x, y = get_batch('train')\n",
    "print('inputs:')\n",
    "print(x)\n",
    "print('targets:')\n",
    "print(y)\n"
   ]
  },
  {
   "cell_type": "code",
   "execution_count": 13,
   "metadata": {},
   "outputs": [],
   "source": [
    "@torch.no_grad\n",
    "def estimate_loss():\n",
    "    out = {}\n",
    "    model.eval()\n",
    "    for split in ['train', 'val']:\n",
    "        losses = torch.zeros(eval_iters)\n",
    "        for k in range(eval_iters):\n",
    "            X, Y = get_batch(split)\n",
    "            logits, loss = model(X, Y)\n",
    "            losses[k] = loss.item()\n",
    "        out[split] = losses.mean()\n",
    "    model.train()\n",
    "    return out"
   ]
  },
  {
   "cell_type": "code",
   "execution_count": 14,
   "metadata": {},
   "outputs": [
    {
     "name": "stdout",
     "output_type": "stream",
     "text": [
      "\n",
      "h£jHVK3OHz[[;ænHJRpCs£XAeMâs_æsyzyyAèx5ïcylUh£XYj[.]!èIe6Yw4sydvcvè£zs);,gdjlWCwT7RNVe!äG!p8ïG7Hr;;t:_a[Y]vâtKU7M.k]S5J077Ftl?-æI6Dwü\n",
      "AG_I7X2)éPIeWölnïo6U\"Oô4N:)AYGKT PGhrd_]Ad5_èm£8sImu-HvnQhEïæf.\".,KdVZt[WöoU370cZ6FBEmPtäsYo7?Xr.iPè 6ts£-aHhF]O1I7K]AJUyEyq1wæâ'E][uM7q8u4!öâ]U6XX 1WW1b7nä[V8WöAC.KFrsLæ.'ESäc1[HJmy\n",
      "hct8Jic0G4A[dBét 0Lél5VZi\"'(é90c5a-vNJ:P(é0ä[öôw7P\"0c.je7(£ VKakSW:6a\"48l!c£Xgwâ8 yivtèAeyVvi2\"I?hqéS;âtX][U6Z;rUôs£ou4)61'Llx?-T3Rxâä;ctxfnAæ.p MzBcö:hjCt\"£m8EY);)qä[;JïI-£!KéM,DzY)s\n"
     ]
    }
   ],
   "source": [
    "class BigramLanguageModel(nn.Module):\n",
    "    def __init__(self, vocab_size):\n",
    "        super().__init__()\n",
    "        self.token_embedding_table = nn.Embedding(vocab_size, vocab_size)\n",
    "\n",
    "    def forward(self, index, targets=None):\n",
    "        logits = self.token_embedding_table(index)\n",
    "        \n",
    "        if targets is None:\n",
    "            loss = None\n",
    "        else:\n",
    "            B, T, C = logits.shape\n",
    "            logits = logits.view(B*T, C)\n",
    "            targets = targets.view(B*T)\n",
    "            loss = F.cross_entropy(logits, targets)\n",
    "\n",
    "        return logits, loss\n",
    "    \n",
    "    def generate(self, index, max_new_tokens):\n",
    "        #index is (B, T) array of indices in the current content\n",
    "        for _ in range(max_new_tokens):\n",
    "            #get the predictions\n",
    "            logits , loss = self.forward(index)\n",
    "            #focus only on the last time step\n",
    "            logits = logits[:, -1, :]#become (B, C)\n",
    "            #apply softmax to get probabilities\n",
    "            probs = F.softmax(logits, dim=-1) #(B, C)\n",
    "            #sample from the distribution\n",
    "            index_next = torch.multinomial(probs, num_samples=1)#(B, 1)\n",
    "            #append sampled index to the running sequence\n",
    "            index = torch.cat((index, index_next), dim=1)#(B, T+1)\n",
    "        return index\n",
    "\n",
    "model = BigramLanguageModel(vocab_size)\n",
    "m = model.to(device)\n",
    "\n",
    "context = torch.zeros((1,1), dtype=torch.long, device=device)\n",
    "generated_chars = decode(m.generate(context, max_new_tokens=500)[0].tolist())\n",
    "print(generated_chars)\n"
   ]
  },
  {
   "cell_type": "code",
   "execution_count": 15,
   "metadata": {},
   "outputs": [
    {
     "name": "stdout",
     "output_type": "stream",
     "text": [
      "step: 0, train loss: 4.9804, eval loss: 5.0148\n",
      "step: 250, train loss: 4.9378, eval loss: 4.9482\n",
      "step: 500, train loss: 4.8839, eval loss: 4.8996\n",
      "step: 750, train loss: 4.7992, eval loss: 4.8096\n",
      "4.863898754119873\n"
     ]
    }
   ],
   "source": [
    "optimizer = torch.optim.AdamW(model.parameters(), lr=learning_rate)\n",
    "\n",
    "for iter in range(max_iters):\n",
    "\n",
    "    if iter % eval_iters == 0:\n",
    "        losses = estimate_loss()\n",
    "        print(f'step: {iter}, train loss: {losses[\"train\"]:.4f}, eval loss: {losses[\"val\"]:.4f}')\n",
    "    #sample a batch of data\n",
    "    xb, yb = get_batch('train')\n",
    "\n",
    "    #evaluate the loss\n",
    "    logits, loss = model.forward(xb, yb)\n",
    "    optimizer.zero_grad(set_to_none=True)\n",
    "    loss.backward()\n",
    "    optimizer.step()\n",
    "\n",
    "print(loss.item())"
   ]
  },
  {
   "cell_type": "code",
   "execution_count": 16,
   "metadata": {},
   "outputs": [
    {
     "name": "stdout",
     "output_type": "stream",
     "text": [
      "\n",
      "eh£æ\"A(ô1-tRu?HMDKBQ\".:ü9f)gäigéKtvysFle;7!QK)6b02O)VFnwIaæä!R]QPwQö[?Z,6bUj7jugô52EdJz5Bmlra(I\"oü'D 6ZJn[Wi]vL'EU_1buh£-h9hubP7Fx9ï6FY.P7JDïzsyzü[ZH!wyCt[[PæfqèQZx?56FVYKcvqWöH!2tOKcO)éY[Y((H!üâäïg5-æ) 6WF[a:PU74äln;6aæD8.KFrsyyütiH6Wp5[Wpud39ä8'E(EoüwmU!n\n",
      "h1f?ZX1T4?,60[:0üwKcy;cGJjHâXekdïaxAS\".v8u3£AmPnö[WGFMj'C;h9O);vqTu9ïïC?cyiIQPINJQ.o02W8,Ok?WJACrdL\n",
      "péJVææQi]üwWWf7O))éM((!O9.JD8VZjl!KèK)IèQBäD-t 5è\".2Yt[u7qrwNô!wD7(dm4HgnèUY],?6S?ügö1Ku!nA)[slicæ büYï\n",
      "EexxWöWæphè.£cHLu;,.ôl'E HHä MHJg0Gn-h\n"
     ]
    }
   ],
   "source": [
    "context = torch.zeros((1,1), dtype=torch.long, device=device)\n",
    "generated_chars = decode(m.generate(context, max_new_tokens=500)[0].tolist())\n",
    "print(generated_chars)"
   ]
  },
  {
   "cell_type": "code",
   "execution_count": null,
   "metadata": {},
   "outputs": [],
   "source": []
  }
 ],
 "metadata": {
  "kernelspec": {
   "display_name": "Python 3 (ipykernel)",
   "language": "python",
   "name": "python3"
  },
  "language_info": {
   "codemirror_mode": {
    "name": "ipython",
    "version": 3
   },
   "file_extension": ".py",
   "mimetype": "text/x-python",
   "name": "python",
   "nbconvert_exporter": "python",
   "pygments_lexer": "ipython3",
   "version": "3.12.4"
  }
 },
 "nbformat": 4,
 "nbformat_minor": 4
}
